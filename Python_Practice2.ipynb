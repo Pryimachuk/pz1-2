{
  "nbformat": 4,
  "nbformat_minor": 0,
  "metadata": {
    "colab": {
      "provenance": []
    },
    "kernelspec": {
      "name": "python3",
      "display_name": "Python 3"
    },
    "language_info": {
      "name": "python"
    }
  },
  "cells": [
    {
      "cell_type": "markdown",
      "source": [
        "# I. Рядки (String)."
      ],
      "metadata": {
        "id": "EVJ7AflwxrZi"
      }
    },
    {
      "cell_type": "markdown",
      "source": [
        "1. Створити пустий рядок двома різними способами."
      ],
      "metadata": {
        "id": "_s5ECzz9zE61"
      }
    },
    {
      "cell_type": "code",
      "execution_count": null,
      "metadata": {
        "id": "HsDOUUMWxo6D"
      },
      "outputs": [],
      "source": [
        "empty_string = ''\n",
        "empty_string = str()"
      ]
    },
    {
      "cell_type": "markdown",
      "source": [
        "2. Створити рядок з апострофом."
      ],
      "metadata": {
        "id": "4Bdn9J3MzLf_"
      }
    },
    {
      "cell_type": "code",
      "source": [
        "apostroph_string = ' \\' '\n",
        "print(apostroph_string)"
      ],
      "metadata": {
        "id": "OjyFU0iKzPc2",
        "colab": {
          "base_uri": "https://localhost:8080/"
        },
        "outputId": "a29920f4-f18c-401e-e602-57f9704dd94b"
      },
      "execution_count": null,
      "outputs": [
        {
          "output_type": "stream",
          "name": "stdout",
          "text": [
            " ' \n"
          ]
        }
      ]
    },
    {
      "cell_type": "markdown",
      "source": [
        "3. Створити рядок з символом переходу на новий рядок та роздрукувати його в консоль."
      ],
      "metadata": {
        "id": "qj7LjXFazbx1"
      }
    },
    {
      "cell_type": "code",
      "source": [
        "my_string = \"Рядок 1 \\nРядок 2\"\n",
        "print(my_string)"
      ],
      "metadata": {
        "id": "K9J-tLXczmyo",
        "colab": {
          "base_uri": "https://localhost:8080/"
        },
        "outputId": "517a351c-b152-40d1-a566-8fb14c8ef43c"
      },
      "execution_count": null,
      "outputs": [
        {
          "output_type": "stream",
          "name": "stdout",
          "text": [
            "Рядок 1 \n",
            "Рядок 2\n"
          ]
        }
      ]
    },
    {
      "cell_type": "markdown",
      "source": [
        "4. Зробити рядок з завдання №3 \"сирим\"(raw), вивести в консоль та порівняти з результатом в попередному завданні."
      ],
      "metadata": {
        "id": "XEYGh-BGzzfD"
      }
    },
    {
      "cell_type": "code",
      "source": [
        "my_string = r\"Рядок 1 \\nРядок 2\"\n",
        "print(my_string)"
      ],
      "metadata": {
        "id": "0Mb7qYqgzntd",
        "colab": {
          "base_uri": "https://localhost:8080/"
        },
        "outputId": "15b61515-8185-4455-fd43-b1776df56e11"
      },
      "execution_count": null,
      "outputs": [
        {
          "output_type": "stream",
          "name": "stdout",
          "text": [
            "Рядок 1 \\nРядок 2\n"
          ]
        }
      ]
    },
    {
      "cell_type": "markdown",
      "source": [
        "raw \"відміняє\" всі спеціальні символи і рядок виводиться точно в такому вигляді, в якому написаний в **коді**"
      ],
      "metadata": {
        "id": "xLM76Cnfz3T_"
      }
    },
    {
      "cell_type": "markdown",
      "source": [
        "5. Створити змінну, що буде посилатися на Ваше прізвище латинкою. Створити форматований рядок, який буде мати вигляд \"My surname is ______\", де на місці нижніх підкреслень буде Ваше прізвище зі змінної."
      ],
      "metadata": {
        "id": "bg_d8wM4z8dS"
      }
    },
    {
      "cell_type": "code",
      "source": [
        "surname_string = \"My surname is Pryimachuk\""
      ],
      "metadata": {
        "id": "Cr847KKpz7zF"
      },
      "execution_count": null,
      "outputs": []
    },
    {
      "cell_type": "markdown",
      "source": [
        "6. Маючи рядок \"My dog is crazy.\" перетворити його на список [\"my\", \"dog\", \"is\", \"crazy\"]"
      ],
      "metadata": {
        "id": "1Nc6RqvQ0hxU"
      }
    },
    {
      "cell_type": "code",
      "source": [
        "original_string = \"My dog is crazy.\"\n",
        "separated_words = original_string.split()\n",
        "separated_words"
      ],
      "metadata": {
        "id": "dGU4MImR063l",
        "colab": {
          "base_uri": "https://localhost:8080/"
        },
        "outputId": "e00d5be8-626f-4e66-d34a-cf01e85b0544"
      },
      "execution_count": null,
      "outputs": [
        {
          "output_type": "execute_result",
          "data": {
            "text/plain": [
              "['My', 'dog', 'is', 'crazy.']"
            ]
          },
          "metadata": {},
          "execution_count": 29
        }
      ]
    },
    {
      "cell_type": "markdown",
      "source": [
        "# II. Множини (Set)."
      ],
      "metadata": {
        "id": "rW_I9dt3x6cW"
      }
    },
    {
      "cell_type": "markdown",
      "source": [
        "7. Створити множину без елементів. Після цого за допомогою методу додайте кілька різних елементів до множини. Чи множини є змінним типом даних?"
      ],
      "metadata": {
        "id": "zNjRLHLw1Bgg"
      }
    },
    {
      "cell_type": "code",
      "source": [
        "empty_set = set()\n",
        "empty_set.add(5)\n",
        "empty_set.add(\"Hi\")\n",
        "empty_set.add(7.9)\n",
        "empty_set"
      ],
      "metadata": {
        "id": "CB72VZWZ1A7c",
        "colab": {
          "base_uri": "https://localhost:8080/"
        },
        "outputId": "ab4b9a4d-88cc-42f3-c3e4-87b062fd1e6a"
      },
      "execution_count": null,
      "outputs": [
        {
          "output_type": "execute_result",
          "data": {
            "text/plain": [
              "{5, 7.9, 'Hi'}"
            ]
          },
          "metadata": {},
          "execution_count": 30
        }
      ]
    },
    {
      "cell_type": "markdown",
      "source": [
        "Множини в Python є змінними, тобто можна додавати, видаляти та змінювати їх елементи."
      ],
      "metadata": {
        "id": "tqxtcfgK4Wkx"
      }
    },
    {
      "cell_type": "markdown",
      "source": [
        "8. Створити множину, маючи список my_list = [1, 1, 2, 67, 67, 8, 9]. Пояснити, чому \"зникли\" деякі елементи."
      ],
      "metadata": {
        "id": "gHpT0Zw_1HEF"
      }
    },
    {
      "cell_type": "code",
      "source": [
        "my_list = [1, 1, 2, 67, 67, 8, 9]\n",
        "my_set = set(my_list)\n",
        "my_set"
      ],
      "metadata": {
        "id": "U5YnFsPp1OCU",
        "colab": {
          "base_uri": "https://localhost:8080/"
        },
        "outputId": "8604811e-3764-4ae0-8f6a-d3a2f2a5b425"
      },
      "execution_count": null,
      "outputs": [
        {
          "output_type": "execute_result",
          "data": {
            "text/plain": [
              "{1, 2, 8, 9, 67}"
            ]
          },
          "metadata": {},
          "execution_count": 31
        }
      ]
    },
    {
      "cell_type": "markdown",
      "source": [
        "Деякі елементи \"зникли\", бо множини в Python можуть містити тільки унікальні елементи"
      ],
      "metadata": {
        "id": "BJk8nBdrYhuz"
      }
    },
    {
      "cell_type": "markdown",
      "source": [
        "9. Створіть дві множини. Продемонстуйте над ними операції: обʼєднання, різниці, пересічі та симетричної різниці. Використовуйте методи, що не змінюють множини, а створюють нові."
      ],
      "metadata": {
        "id": "SRMkGizS1UwY"
      }
    },
    {
      "cell_type": "code",
      "source": [
        "set1 = {1, 2, 3, 4, 5}\n",
        "set2 = {5, 6, 7, 8, 9}\n",
        "union_set = set1.union(set2)\n",
        "difference_set = set1.difference(set2)\n",
        "intersection_set = set1.intersection(set2)\n",
        "symmetric_difference_set = set1.symmetric_difference(set2)\n",
        "\n",
        "print(union_set)\n",
        "print(difference_set)\n",
        "print(intersection_set)\n",
        "print(symmetric_difference_set)"
      ],
      "metadata": {
        "id": "pj5ta1CS2LAa",
        "colab": {
          "base_uri": "https://localhost:8080/"
        },
        "outputId": "4618b9e8-c803-47b9-e208-3c6ef008f01b"
      },
      "execution_count": null,
      "outputs": [
        {
          "output_type": "stream",
          "name": "stdout",
          "text": [
            "{1, 2, 3, 4, 5, 6, 7, 8, 9}\n",
            "{1, 2, 3, 4}\n",
            "{5}\n",
            "{1, 2, 3, 4, 6, 7, 8, 9}\n"
          ]
        }
      ]
    },
    {
      "cell_type": "markdown",
      "source": [
        "10. Створіть множину з пʼяти елементів. За допомогою спеціального методу, вилучіть три елементи один за одним з множини. Чи може гарантуватися порядок елементів у множинах?"
      ],
      "metadata": {
        "id": "ECo4rGAW2e4S"
      }
    },
    {
      "cell_type": "code",
      "source": [
        "my_set = {1, 2, 3, 4, 5}\n",
        "\n",
        "element1 = my_set.pop()\n",
        "print(element1)\n",
        "\n",
        "element2 = my_set.pop()\n",
        "print(element2)\n",
        "\n",
        "element3 = my_set.pop()\n",
        "print(element3)"
      ],
      "metadata": {
        "id": "tCoJigA-4Ryd",
        "colab": {
          "base_uri": "https://localhost:8080/"
        },
        "outputId": "35a560a2-8aed-471e-aea1-602031ffef1a"
      },
      "execution_count": null,
      "outputs": [
        {
          "output_type": "stream",
          "name": "stdout",
          "text": [
            "1\n",
            "2\n",
            "3\n"
          ]
        }
      ]
    },
    {
      "cell_type": "markdown",
      "source": [
        "У Python елементи множини не мають фіксованого порядку. Порядок вилучених елементів може варіюватися з кожним запуском програми або залежати від реалізації мови Python, тому не можна розраховувати на певний порядок у множинах."
      ],
      "metadata": {
        "id": "t7f5oKmP2qum"
      }
    },
    {
      "cell_type": "markdown",
      "source": [
        "# III. Словники (Dictionary)."
      ],
      "metadata": {
        "id": "kWc8gkzTx7Ea"
      }
    },
    {
      "cell_type": "markdown",
      "source": [
        "11. Створіть пустий словник двома способами."
      ],
      "metadata": {
        "id": "FHIRdwck2uji"
      }
    },
    {
      "cell_type": "code",
      "source": [
        "empty_dict1 = {}\n",
        "empty_dict2 = dict()"
      ],
      "metadata": {
        "id": "sF2WCzwJ2yDq"
      },
      "execution_count": null,
      "outputs": []
    },
    {
      "cell_type": "markdown",
      "source": [
        "12. До одного зі словників вище додайте чотири пари елементів такі, щоб їхні ключі були різних типів."
      ],
      "metadata": {
        "id": "i5FLwj-B2ybQ"
      }
    },
    {
      "cell_type": "code",
      "source": [
        "empty_dict = {}\n",
        "\n",
        "empty_dict[\"name\"] = \"Antonina\"\n",
        "empty_dict[42] = \"forty-two\"\n",
        "empty_dict[3.14] = \"pi\"\n",
        "empty_dict[True] = \"boolean\"\n",
        "\n",
        "print(empty_dict)\n"
      ],
      "metadata": {
        "id": "lqunD0EZ2_Vg",
        "colab": {
          "base_uri": "https://localhost:8080/"
        },
        "outputId": "ef5f0baf-c592-45e4-e278-ed70ba7254f8"
      },
      "execution_count": null,
      "outputs": [
        {
          "output_type": "stream",
          "name": "stdout",
          "text": [
            "{'name': 'Antonina', 42: 'forty-two', 3.14: 'pi', True: 'boolean'}\n"
          ]
        }
      ]
    },
    {
      "cell_type": "markdown",
      "source": [
        "*чи може список бути ключем? а значенням? чому?"
      ],
      "metadata": {
        "id": "XOD2Aaj13Bqx"
      }
    },
    {
      "cell_type": "markdown",
      "source": [
        "13. Використовуючи той самий словник, отримайте по ключу будь-яке значення з наявних. Тепер видаліть цю пару ключ-значення. Спробуйте знову отримати значення по цьому ж ключу. Використовуючи спеціальний метод, виправте помилку."
      ],
      "metadata": {
        "id": "9Tjhmuf73KE6"
      }
    },
    {
      "cell_type": "code",
      "source": [
        "empty_dict[\"name\"]"
      ],
      "metadata": {
        "id": "cNMenuGQ3JMa",
        "colab": {
          "base_uri": "https://localhost:8080/",
          "height": 35
        },
        "outputId": "67ea4d0b-8d14-4d9a-a7c7-036aeea53fa0"
      },
      "execution_count": null,
      "outputs": [
        {
          "output_type": "execute_result",
          "data": {
            "text/plain": [
              "'Antonina'"
            ],
            "application/vnd.google.colaboratory.intrinsic+json": {
              "type": "string"
            }
          },
          "metadata": {},
          "execution_count": 54
        }
      ]
    },
    {
      "cell_type": "code",
      "source": [
        "del empty_dict[\"name\"]"
      ],
      "metadata": {
        "id": "pDUFhmsMzMM6"
      },
      "execution_count": null,
      "outputs": []
    },
    {
      "cell_type": "code",
      "source": [
        "dict_name = empty_dict.get(\"name\")\n",
        "dict_name"
      ],
      "metadata": {
        "colab": {
          "base_uri": "https://localhost:8080/",
          "height": 35
        },
        "id": "x96RiW3bzTGl",
        "outputId": "f79087f2-bbbe-42c4-a15a-fc761db55525"
      },
      "execution_count": null,
      "outputs": [
        {
          "output_type": "execute_result",
          "data": {
            "text/plain": [
              "'Antonina'"
            ],
            "application/vnd.google.colaboratory.intrinsic+json": {
              "type": "string"
            }
          },
          "metadata": {},
          "execution_count": 58
        }
      ]
    },
    {
      "cell_type": "markdown",
      "source": [
        "# IV. Оператори порівняння та логічні оператори. Умови."
      ],
      "metadata": {
        "id": "SLtQabwUx7Xc"
      }
    },
    {
      "cell_type": "markdown",
      "source": [
        "14. Створіть цілочисленну змінну зі своїм щасливим або улюбленим числом. Напишіть код, який би автоматизовував наступну задачу.\n",
        "\n",
        "Якщо число парне, помножте його на 2 та виведіть результат на екран.\n",
        "\n",
        "Але якщо число непарне, помножте його на 3 та додайте 1 і виведіть на екран.\n"
      ],
      "metadata": {
        "id": "SrehzC-n3-ln"
      }
    },
    {
      "cell_type": "code",
      "source": [
        "import random"
      ],
      "metadata": {
        "id": "g0cchKGl3-Gq"
      },
      "execution_count": null,
      "outputs": []
    },
    {
      "cell_type": "code",
      "source": [
        "my_favorite_number = random.randint(1, 99)\n",
        "\n",
        "print(\"My favorite number is:\", my_favorite_number)\n",
        "\n",
        "if my_favorite_number % 2 == 0:\n",
        "  result = my_favorite_number * 2\n",
        "else:\n",
        "  result = my_favorite_number * 3 + 1\n",
        "\n",
        "print(\"result is:\",result)"
      ],
      "metadata": {
        "colab": {
          "base_uri": "https://localhost:8080/"
        },
        "id": "OGz-KADCSjV9",
        "outputId": "2dd320f0-f871-469d-b951-d551492dad59"
      },
      "execution_count": null,
      "outputs": [
        {
          "output_type": "stream",
          "name": "stdout",
          "text": [
            "My favorite number is: 65\n",
            "result is: 196\n"
          ]
        }
      ]
    },
    {
      "cell_type": "markdown",
      "source": [
        "15. Створіть рядок зі своїм імʼям латинкою. Напишіть код, який би автоматизовував наступну задачу.\n",
        "\n",
        "Якщо в імені є літера \"а\"\n",
        " або \"i\", Виведіть на екран повідомлення \"A or I is in the name\".\n",
        "\n",
        "\n",
        "\n",
        "Якщо в імені є літери \"o\" та \"n\", Виведіть на екран повідомлення \"O and N is in the name\".\n",
        "\n",
        "Також якщо в імені немає літери \"о\", але є \"n\", Виведіть на екран повідомлення \"Only N is in the name\".\n",
        "\n",
        "В решті випадків виведіть на екран повідомлення \"There is no N in the name, but there might be O\".\n",
        "\n",
        "Зверніть увагу, що, наприклад, для імені \"Antonina\" буде виведено два повідомлення."
      ],
      "metadata": {
        "id": "PRXLVdU26E5Z"
      }
    },
    {
      "cell_type": "code",
      "source": [
        "name = \"Kolya\"\n",
        "\n",
        "if 'a' in name or 'i' in name:\n",
        "    print(\"A or I is in the name\")\n",
        "\n",
        "if 'o' in name and 'n' in name:\n",
        "    print(\"O and N is in the name\")\n",
        "\n",
        "elif 'n' in name:\n",
        "    print(\"Only N is in the name\")\n",
        "\n",
        "else:\n",
        "    print(\"There is no N in the name, but there might be O\")\n"
      ],
      "metadata": {
        "id": "bQlf4ZUh6Pdz",
        "colab": {
          "base_uri": "https://localhost:8080/"
        },
        "outputId": "605c0ae2-17e2-4b62-ae79-7bd4cee033c6"
      },
      "execution_count": null,
      "outputs": [
        {
          "output_type": "stream",
          "name": "stdout",
          "text": [
            "A or I is in the name\n",
            "There is no N in the name, but there might be O\n"
          ]
        }
      ]
    },
    {
      "cell_type": "markdown",
      "source": [
        "# Вітаю! Ви велика(ий) молодець, що впоралась(вся). Похваліть себе та побалуйте чимось приємним. Я Вами пишаюся."
      ],
      "metadata": {
        "id": "xOZP0hkx6cCr"
      }
    }
  ]
}